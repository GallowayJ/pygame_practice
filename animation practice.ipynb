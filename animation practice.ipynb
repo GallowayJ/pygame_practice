{
 "metadata": {
  "name": "animation practice.ipynb"
 },
 "nbformat": 3,
 "nbformat_minor": 0,
 "worksheets": [
  {
   "cells": [
    {
     "cell_type": "code",
     "collapsed": false,
     "input": [
      "import pygame, sys\n",
      "from pygame.locals import *"
     ],
     "language": "python",
     "metadata": {},
     "outputs": [],
     "prompt_number": 1
    },
    {
     "cell_type": "code",
     "collapsed": false,
     "input": [
      "pygame.init()\n",
      "\n",
      "FPS = 30\n",
      "fpsClock = pygame.time.Clock()\n",
      "\n",
      "DISPLAYSURF = pygame.display.set_mode((700, 500), 0, 32)\n",
      "pygame.display.set_caption('Animation')\n",
      "\n",
      "WHITE = (255, 255, 255)\n",
      "dickPic = pygame.image.load('C:\\\\Users\\\\Jason\\\\Documents\\\\GitHub\\\\Pygame practice\\\\penis.png')\n",
      "dickPicx = 10\n",
      "dickPicy = 10\n",
      "direction = 'right'\n",
      "\n",
      "while True:\n",
      "    DISPLAYSURF.fill(WHITE)\n",
      "    \n",
      "    if direction == 'right':\n",
      "        dickPicx += 5\n",
      "        if dickPicx == 500:\n",
      "            direction = 'down'\n",
      "    elif direction == 'down':\n",
      "        dickPicy += 5\n",
      "        if dickPicy == 140:\n",
      "            direction = 'left'\n",
      "    elif direction == 'left':\n",
      "        dickPicx -= 5\n",
      "        if dickPicx == 0:\n",
      "            direction = 'up'\n",
      "    elif direction == 'up':\n",
      "        dickPicy -= 5\n",
      "        if dickPicy == 0:\n",
      "            direction = 'right'\n",
      "            \n",
      "    DISPLAYSURF.blit(dickPic, (dickPicx, dickPicy))\n",
      "    \n",
      "    for event in pygame.event.get():\n",
      "        if event.type == QUIT:\n",
      "            pygame.quit()\n",
      "            sys.exit()\n",
      "            \n",
      "    pygame.display.update()\n",
      "    fpsClock.tick(FPS)\n",
      "            \n",
      "        "
     ],
     "language": "python",
     "metadata": {},
     "outputs": [
      {
       "ename": "SystemExit",
       "evalue": "",
       "output_type": "pyerr",
       "traceback": [
        "An exception has occurred, use %tb to see the full traceback.\n",
        "\u001b[1;31mSystemExit\u001b[0m\n"
       ]
      },
      {
       "output_type": "stream",
       "stream": "stderr",
       "text": [
        "To exit: use 'exit', 'quit', or Ctrl-D.\n"
       ]
      }
     ],
     "prompt_number": 19
    },
    {
     "cell_type": "code",
     "collapsed": false,
     "input": [
      "pygame.init()\n",
      "\n",
      "DISPLAYSURF = pygame.display.set_mode((500, 400), 0, 32)\n",
      "pygame.display.set_caption('Drawing')\n",
      "\n",
      "BLACK = (  0,   0,   0)\n",
      "WHITE = (255, 255, 255)\n",
      "RED =   (255,   0,   0)\n",
      "GREEN = (  0, 255,   0)\n",
      "BLUE =  (  0,   0, 255)\n",
      "\n",
      "DISPLAYSURF.fill(WHITE)\n",
      "pygame.draw.polygon(DISPLAYSURF, GREEN, ((146, 0), (291, 106), (236, 277), (56, 277), (0, 106)))\n",
      "pygame.draw.line(DISPLAYSURF, BLUE, (60 , 60), (120, 60), 4)\n",
      "pgame.draw.line(DISPLAYSURF, BLUE, (120, 60), (60, 120))\n",
      "pygame.draw.line(DISPLAYSURF, BLUE, (60, 120), (120, 120), 4)\n",
      "pygame"
     ],
     "language": "python",
     "metadata": {},
     "outputs": []
    }
   ],
   "metadata": {}
  }
 ]
}