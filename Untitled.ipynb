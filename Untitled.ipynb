{
 "cells": [
  {
   "cell_type": "code",
   "execution_count": 1,
   "metadata": {
    "collapsed": false
   },
   "outputs": [
    {
     "name": "stdout",
     "output_type": "stream",
     "text": [
      "Oh hello there, would you like to play with me?\n",
      "type 'y' for yes or 'n' for noy\n",
      "Of course you'd like to play, you naughty so-and-so ;-)\n",
      "What difficulty would you like:                           1. Easy, 2. Medium or 3. Hard1\n",
      "You've selected Easy, AKA 'bitch-level'\n",
      "Right then sailor, what should I call you?Debug\n",
      "13\n",
      "I've chosen a random integer between 0 and 15.\n",
      "You have 6 attempts to guess this number.\n",
      "debug: 6 13 Debug Easy 15\n",
      "You have 6 guesses. Good luck!\n",
      "Type a number:13\n",
      "You win\n",
      "Not bad, you scored 75 points!!!\n",
      "                           Difficulty  Guesses taken Player  Score  \\\n",
      "0                                Easy              1      1     75   \n",
      "1                              Medium              1      2     60   \n",
      "2016-04-18 16:39:26.708191       Easy              1  Debug     75   \n",
      "\n",
      "                                            Unnamed: 0  \\\n",
      "0                                                    0   \n",
      "1                           2016-04-18 14:54:50.287473   \n",
      "2016-04-18 16:39:26.708191                         NaN   \n",
      "\n",
      "                                          Unnamed: 0.1  \n",
      "0                           2016-04-18 14:54:37.288717  \n",
      "1                                                  NaN  \n",
      "2016-04-18 16:39:26.708191                         NaN  \n"
     ]
    },
    {
     "ename": "SystemExit",
     "evalue": "",
     "output_type": "error",
     "traceback": [
      "An exception has occurred, use %tb to see the full traceback.\n",
      "\u001b[1;31mSystemExit\u001b[0m\n"
     ]
    },
    {
     "name": "stderr",
     "output_type": "stream",
     "text": [
      "To exit: use 'exit', 'quit', or Ctrl-D.\n"
     ]
    }
   ],
   "source": [
    "import random\n",
    "import sys\n",
    "import pandas as pd\n",
    "import datetime\n",
    "\n",
    "\n",
    "def print_welcome():\n",
    "    play_ans = input(\"type 'y' for yes or 'n' for no\")\n",
    "    play_ans = play_ans.lower()\n",
    "    if play_ans in ('y', 'yes', 'yeah'):\n",
    "        print(\"Of course you'd like to play, you naughty so-and-so ;-)\")\n",
    "    elif play_ans in ('n', 'no', 'nah'):\n",
    "        print(\"Oh, I see. You'd rather play with yourself. Bitchtits!!\")\n",
    "        sys.exit()\n",
    "    else:\n",
    "        print(\"Sorry, I didn't understand that. Please type 'y' or 'n'\")\n",
    "        print_welcome()\n",
    "\n",
    "\n",
    "def get_diff():\n",
    "    list_of_diff = [\"Easy\", \"Medium\", \"Hard\"]\n",
    "    selected_diff = input(\"What difficulty would you like: \\\n",
    "                          1. {0}, 2. {1} or 3. {2}\".format(*list_of_diff))\n",
    "    try:\n",
    "        selected_diff = int(selected_diff)\n",
    "    except ValueError:\n",
    "        selected_diff = selected_diff.capitalize()\n",
    "    except TypeError:\n",
    "        print(\"Sorry there was a problem with understanding your desired\"\n",
    "              \"difficulty\")\n",
    "        raise\n",
    "\n",
    "    if selected_diff in (int(1), list_of_diff[0]):\n",
    "        selected_diff, upper_num, guesses_start = list_of_diff[0], 15, 6\n",
    "        print(\"You've selected {}, AKA 'bitch-level'\".format(selected_diff))\n",
    "\n",
    "    elif selected_diff in (int(2), list_of_diff[1]):\n",
    "        selected_diff, upper_num, guesses_start = list_of_diff[1], 20, 4\n",
    "        print(\"You've selected {}.\\\n",
    "              Gunning for mediocrity!\".format(selected_diff))\n",
    "\n",
    "    elif selected_diff in (int(3), list_of_diff[2]):\n",
    "        selected_diff, upper_num, guesses_start = list_of_diff[2], 35, 3\n",
    "        print(\"{}. Look's like someone's cocky..\".format(selected_diff))\n",
    "    else:\n",
    "        print(\"I didn't quite get that...\")\n",
    "    return selected_diff, upper_num, guesses_start\n",
    "\n",
    "\n",
    "def get_player_name():\n",
    "    player_name = input(\"Right then sailor, what should I call you?\")\n",
    "    return player_name\n",
    "\n",
    "\n",
    "def print_instruct(upper_num):\n",
    "    print(\"I've chosen a random integer between 0 and {}.\".format(upper_num))\n",
    "    print(\"You have {} attempts to guess this number.\".format(guesses_start))\n",
    "    return\n",
    "\n",
    "\n",
    "def gen_random_number(upper_num):\n",
    "    jackpot_number = random.randrange(0, upper_num+1)\n",
    "    print(jackpot_number)\n",
    "    return jackpot_number\n",
    "\n",
    "\n",
    "def play_game(guesses_start, jackpot_number, name, diff, upper_num):\n",
    "    guesses_left = guesses_start\n",
    "    jackpot_number = jackpot_number\n",
    "    print(\"You have {} guesses. Good luck!\".format(guesses_left))\n",
    "    while True:\n",
    "        this_guess = int(input(\"Type a number:\"))\n",
    "        guesses_left -= 1\n",
    "        if this_guess is jackpot_number:\n",
    "            print(\"You win\")\n",
    "            guesses_taken = guesses_start - guesses_left\n",
    "            score = scoring(upper_num, guesses_left)\n",
    "            record_keeping(name, diff, guesses_taken, score)\n",
    "            break\n",
    "        elif guesses_left is not 0:\n",
    "            if this_guess < jackpot_number:\n",
    "                print(\"Too low, mofo. Only {} left!\".format(guesses_left))\n",
    "            if this_guess > jackpot_number:\n",
    "                print(\"Too high, my guy. Only {} left!\".format(guesses_left))\n",
    "        else:\n",
    "            print(\"You lose\")\n",
    "            break\n",
    "    return\n",
    "\n",
    "\n",
    "def scoring(upper_num, guesses):\n",
    "    score = upper_num * guesses\n",
    "    print(\"Not bad, you scored {} points!!!\".format(score))\n",
    "    return score\n",
    "\n",
    "\n",
    "def record_keeping(name, diff, guesses_taken, score):\n",
    "    current_time = datetime.datetime.now()\n",
    "    record_dict = {current_time: {'Player': name, 'Difficulty': diff,\n",
    "                   'Guesses taken': guesses_taken, 'Score': score}\n",
    "                   }\n",
    "    current_game_df = pd.DataFrame.from_dict(record_dict, orient='index')\n",
    "    try:\n",
    "        records_csv = pd.read_csv('records.csv')\n",
    "        records_csv = pd.concat([records_csv, current_game_df],\n",
    "                                axis=0)\n",
    "        records_csv.to_csv('records.csv')\n",
    "        print(records_csv)\n",
    "    except OSError:\n",
    "        records_csv = current_game_df\n",
    "        records_csv.to_csv('records.csv')\n",
    "        print(records_csv)\n",
    "    except:\n",
    "        print(\"Woah, something went wrong with record keeping\")\n",
    "        raise\n",
    "\n",
    "\n",
    "print(\"Oh hello there, would you like to play with me?\")\n",
    "print_welcome()\n",
    "diff, upper_num, guesses_start = get_diff()\n",
    "name = get_player_name()\n",
    "jackpot_number = gen_random_number(upper_num)\n",
    "print_instruct(upper_num)\n",
    "print(\"debug:\", guesses_start, jackpot_number, name, diff, upper_num)\n",
    "play_game(guesses_start, jackpot_number, name, diff, upper_num)\n",
    "\n",
    "\n",
    "sys.exit()\n"
   ]
  },
  {
   "cell_type": "code",
   "execution_count": 2,
   "metadata": {
    "collapsed": false
   },
   "outputs": [
    {
     "name": "stdout",
     "output_type": "stream",
     "text": [
      "Variable            Type        Data/Info\n",
      "-----------------------------------------\n",
      "datetime            module      <module 'datetime' from '<...>b/python3.4/datetime.py'>\n",
      "diff                str         Easy\n",
      "gen_random_number   function    <function gen_random_number at 0x7f725c433400>\n",
      "get_diff            function    <function get_diff at 0x7f725c433268>\n",
      "get_player_name     function    <function get_player_name at 0x7f725c4332f0>\n",
      "guesses_start       int         6\n",
      "jackpot_number      int         13\n",
      "name                str         Debug\n",
      "pd                  module      <module 'pandas' from '/h<...>ages/pandas/__init__.py'>\n",
      "play_game           function    <function play_game at 0x7f725c433488>\n",
      "print_instruct      function    <function print_instruct at 0x7f725c433378>\n",
      "print_welcome       function    <function print_welcome at 0x7f727c5b7d90>\n",
      "random              module      <module 'random' from '/h<...>lib/python3.4/random.py'>\n",
      "record_keeping      function    <function record_keeping at 0x7f725c433598>\n",
      "scoring             function    <function scoring at 0x7f725c433510>\n",
      "sys                 module      <module 'sys' (built-in)>\n",
      "upper_num           int         15\n"
     ]
    }
   ],
   "source": [
    "whos"
   ]
  },
  {
   "cell_type": "code",
   "execution_count": 3,
   "metadata": {
    "collapsed": true
   },
   "outputs": [],
   "source": [
    "name = 'Jason'\n",
    "diff = 'Hard'\n",
    "guesses_taken = 2\n",
    "score = 30\n",
    "\n",
    "current_time = datetime.datetime.now()\n",
    "record_dict = {current_time: {'Player': name, 'Difficulty': diff,\n",
    "               'Guesses taken': guesses_taken, 'Score': score}\n",
    "                   }\n",
    "current_game_df = pd.DataFrame.from_dict(record_dict, orient='index')"
   ]
  },
  {
   "cell_type": "code",
   "execution_count": 4,
   "metadata": {
    "collapsed": false
   },
   "outputs": [
    {
     "data": {
      "text/plain": [
       "DatetimeIndex(['2016-04-18 16:46:53.085196'], dtype='datetime64[ns]', freq=None)"
      ]
     },
     "execution_count": 4,
     "metadata": {},
     "output_type": "execute_result"
    }
   ],
   "source": [
    "current_game_df.index"
   ]
  }
 ],
 "metadata": {
  "kernelspec": {
   "display_name": "Python 3",
   "language": "python",
   "name": "python3"
  },
  "language_info": {
   "codemirror_mode": {
    "name": "ipython",
    "version": 3
   },
   "file_extension": ".py",
   "mimetype": "text/x-python",
   "name": "python",
   "nbconvert_exporter": "python",
   "pygments_lexer": "ipython3",
   "version": "3.4.3"
  }
 },
 "nbformat": 4,
 "nbformat_minor": 0
}
