{
 "metadata": {
  "name": "guessing game.ipynb"
 },
 "nbformat": 3,
 "nbformat_minor": 0,
 "worksheets": [
  {
   "cells": [
    {
     "cell_type": "code",
     "collapsed": false,
     "input": [
      "import pandas as pd\n",
      "import datetime\n",
      "import random"
     ],
     "language": "python",
     "metadata": {},
     "outputs": [],
     "prompt_number": 1
    },
    {
     "cell_type": "code",
     "collapsed": false,
     "input": [
      "current_time = datetime.datetime.now()\n",
      "record = {'Date':current_time, 'Player':None,'Difficulty':None, 'Score':None}\n",
      "hall_of_fame = pd.DataFrame.from_dict([record], orient='columns')\n",
      "hall_of_fame = hall_of_fame.set_index('Date')\n",
      "display(hall_of_fame)"
     ],
     "language": "python",
     "metadata": {},
     "outputs": [
      {
       "html": [
        "<div style=\"max-height:1000px;max-width:1500px;overflow:auto;\">\n",
        "<table border=\"1\" class=\"dataframe\">\n",
        "  <thead>\n",
        "    <tr style=\"text-align: right;\">\n",
        "      <th></th>\n",
        "      <th>Difficulty</th>\n",
        "      <th>Player</th>\n",
        "      <th>Score</th>\n",
        "    </tr>\n",
        "    <tr>\n",
        "      <th>Date</th>\n",
        "      <th></th>\n",
        "      <th></th>\n",
        "      <th></th>\n",
        "    </tr>\n",
        "  </thead>\n",
        "  <tbody>\n",
        "    <tr>\n",
        "      <th>2014-10-23 19:35:57.863000</th>\n",
        "      <td> None</td>\n",
        "      <td> None</td>\n",
        "      <td> None</td>\n",
        "    </tr>\n",
        "  </tbody>\n",
        "</table>\n",
        "</div>"
       ],
       "metadata": {},
       "output_type": "display_data",
       "text": [
        "                           Difficulty Player Score\n",
        "Date                                              \n",
        "2014-10-23 19:35:57.863000       None   None  None"
       ]
      }
     ],
     "prompt_number": 2
    },
    {
     "cell_type": "code",
     "collapsed": false,
     "input": [
      "hall_of_fame.to_csv('C:\\\\Users\\\\Jason\\\\Documents\\\\hall_of_fame.csv')"
     ],
     "language": "python",
     "metadata": {},
     "outputs": [],
     "prompt_number": 28
    },
    {
     "cell_type": "code",
     "collapsed": false,
     "input": [
      "def validInput():\n",
      "    number = raw_input(\"What's your guess?\\n\")\n",
      "    if number.isdigit():\n",
      "        number = int(number)\n",
      "        return number\n",
      "    else:\n",
      "        print 'Whoops, please be sure to enter a positive integer!\\n'\n",
      "        validInput()\n",
      "    return number\n",
      "        \n",
      "def hearRules():\n",
      "    yes_count = 0\n",
      "    yes_strings = ['yes','yeah','ja','okay','go on', 'tell','y','sure']\n",
      "    ruleAns = raw_input(\"Would you like me to explain the rules?\\n\")\n",
      "    for word in ruleAns.lower().split():\n",
      "        if word in yes_strings:\n",
      "            yes_count += 1\n",
      "    return yes_count\n",
      "\n",
      "\n",
      "def selectDiff():\n",
      "    upperbound = 0\n",
      "    difficulty_ops = ['easy', 'medium', 'hard']\n",
      "    #diff = raw_input(' or '.join(difficulty)).lower()\n",
      "    while True:\n",
      "        diff = raw_input('easy, medium or hard').lower()\n",
      "        if diff in difficulty_ops:\n",
      "            if diff == 'easy':\n",
      "                return 20, 'easy'   \n",
      "            elif diff == 'medium':\n",
      "                return 25, 'medium'  \n",
      "            elif diff == 'hard':\n",
      "                return  30, 'hard'    \n",
      "        else:\n",
      "            print \"Please select easy, medium or hard\\n\"\n",
      "        \n",
      "    return upperbound,diff\n",
      "\n",
      "def recordKeeping(upperbound, lives, playerName, difficulty):\n",
      "    hall_of_fame= pd.read_csv('C:\\\\Users\\\\Jason\\\\Documents\\\\hall_of_fame.csv', index_col='Date')\n",
      "    score = int(upperbound * lives)\n",
      "    current_time = datetime.datetime.now()\n",
      "    record = {'Date':current_time, 'Player':playerName,'Difficulty':difficulty, 'Score':score}\n",
      "    df_record = pd.DataFrame([record])\n",
      "    df_record = df_record.set_index('Date')\n",
      "    hall_of_fame = pd.concat([hall_of_fame, df_record], axis=0, join='outer')\n",
      "    print hall_of_fame.sort(['Score'],ascending=False).head(n=10)\n",
      "    display(hall_of_fame.sort(['Score'].head(n=10))\n",
      "    #display(hall_of_fame.sort(['Score'].head(n=10))\n",
      "    hall_of_fame.to_csv('C:\\\\Users\\\\Jason\\\\Documents\\\\hall_of_fame.csv')\n",
      "    return hall_of_fame"
     ],
     "language": "python",
     "metadata": {},
     "outputs": [
      {
       "ename": "SyntaxError",
       "evalue": "invalid syntax (<ipython-input-47-d4ac43f086d7>, line 50)",
       "output_type": "pyerr",
       "traceback": [
        "\u001b[1;36m  File \u001b[1;32m\"<ipython-input-47-d4ac43f086d7>\"\u001b[1;36m, line \u001b[1;32m50\u001b[0m\n\u001b[1;33m    hall_of_fame.to_csv('C:\\\\Users\\\\Jason\\\\Documents\\\\hall_of_fame.csv')\u001b[0m\n\u001b[1;37m               ^\u001b[0m\n\u001b[1;31mSyntaxError\u001b[0m\u001b[1;31m:\u001b[0m invalid syntax\n"
       ]
      }
     ],
     "prompt_number": 47
    },
    {
     "cell_type": "code",
     "collapsed": false,
     "input": [
      "def guessingGame():\n",
      "    guessesTaken = 0\n",
      "    \n",
      "    print \"What's good famalam?\"\n",
      "    playerName=raw_input(\"Tell me your name, innit?\\n\")\n",
      "    print \"{0} I've been waiting for you, let's play a game! :)\".format(playerName)\n",
      "    upperbound, diff = selectDiff()\n",
      "    number = randint(0,upperbound)\n",
      "    #print number\n",
      "    yes_count = hearRules()\n",
      "    if yes_count > 0:\n",
      "        print \"Okay I'm going to think of a number between {} and {}.\\nYou'll have 6 attempts to correctly guess it. Simple as!\".format(0,upperbound)\n",
      "    else:\n",
      "        print \"Okay, let's get it on!\"\n",
      "    \n",
      "    while guessesTaken < 6:\n",
      "        lives = 6-guessesTaken\n",
      "        print \"{0}, you have {1} lives remaining!\".format(playerName, lives)\n",
      "        print \"Guess the integer that I'm thinking of\"\n",
      "        \n",
      "        guess = validInput()\n",
      "        guessesTaken +=1\n",
      "        if guessesTaken ==6:\n",
      "            print \"You're all out of guesses {}, better luck next time...biatch!!\".format(playerName)\n",
      "            break\n",
      "        elif guess > 20:\n",
      "            print \"{0} is {1} less than 20?\".format(playerName,guess)\n",
      "        \n",
      "        elif guess < 0:\n",
      "            print \"{0} is {1} more than 0?\".format(playerName,guess)\n",
      "        \n",
      "        elif guess == number and guessesTaken <2 :\n",
      "            print \"{0}, be honest did you cheat or are you just lucky?\".format(playerName)\n",
      "            recordKeeping(upperbound, lives, playerName, diff)\n",
      "            #displayHall()\n",
      "            break\n",
      "        \n",
      "        elif guess == number:\n",
      "            print \"Congrats, you got it with {} lives remaining!\".format(lives)\n",
      "            recordKeeping(upperbound, lives, playerName, diff)\n",
      "            #displayHall()\n",
      "            break\n",
      "        \n",
      "        elif guess < number:\n",
      "            print \"Too low, mofo!\"\n",
      "        else:\n",
      "            print \"Too high, cherrypie!\""
     ],
     "language": "python",
     "metadata": {},
     "outputs": [],
     "prompt_number": 50
    },
    {
     "cell_type": "code",
     "collapsed": false,
     "input": [
      "guessingGame()"
     ],
     "language": "python",
     "metadata": {},
     "outputs": [
      {
       "output_type": "stream",
       "stream": "stdout",
       "text": [
        "What's good famalam?\n"
       ]
      },
      {
       "name": "stdout",
       "output_type": "stream",
       "stream": "stdout",
       "text": [
        "Tell me your name, innit?\n",
        "Jason\n"
       ]
      },
      {
       "output_type": "stream",
       "stream": "stdout",
       "text": [
        "Jason I've been waiting for you, let's play a game! :)\n"
       ]
      },
      {
       "name": "stdout",
       "output_type": "stream",
       "stream": "stdout",
       "text": [
        "easy, medium or hardeasy\n"
       ]
      },
      {
       "output_type": "stream",
       "stream": "stdout",
       "text": [
        "18\n"
       ]
      },
      {
       "name": "stdout",
       "output_type": "stream",
       "stream": "stdout",
       "text": [
        "Would you like me to explain the rules?\n",
        "no\n"
       ]
      },
      {
       "output_type": "stream",
       "stream": "stdout",
       "text": [
        "Okay, let's get it on!\n",
        "Jason, you have 6 lives remaining!\n",
        "Guess the integer that I'm thinking of\n"
       ]
      },
      {
       "name": "stdout",
       "output_type": "stream",
       "stream": "stdout",
       "text": [
        "What's your guess?\n",
        "18\n"
       ]
      },
      {
       "output_type": "stream",
       "stream": "stdout",
       "text": [
        "Jason, be honest did you cheat or are you just lucky?\n",
        "                           Difficulty                Player  Score\n",
        "Date                                                              \n",
        "2014-09-27 18:36:09.646000       hard               Cheater    180\n",
        "2014-09-27 18:36:27.592000       hard               Cheater    180\n",
        "2014-09-27 18:37:16.992000       hard               Cheater    180\n",
        "2014-10-23 20:16:02.198000       hard                 Jason    180\n",
        "2014-09-27 18:50:31.587000       hard  I'm above Karl-Johan    180\n",
        "2014-10-11 15:23:09.164000       hard                  Anna    150\n",
        "2014-10-23 20:14:06.618000       easy                 jason    120\n",
        "2014-10-23 20:21:02.611000       easy                 Jason    120\n",
        "2014-10-11 15:29:59.145000       easy                   516    100\n",
        "2014-09-27 18:41:07.473000       easy                 Jason    100\n"
       ]
      }
     ],
     "prompt_number": 51
    }
   ],
   "metadata": {}
  }
 ]
}